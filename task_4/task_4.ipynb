{
 "cells": [
  {
   "cell_type": "code",
   "execution_count": null,
   "id": "8cef9f5d",
   "metadata": {},
   "outputs": [
    {
     "name": "stdout",
     "output_type": "stream",
     "text": [
      "Invalid Card Number\n"
     ]
    }
   ],
   "source": [
    "def card(number):\n",
    "    number = number.replace(\" \", \"\")   \n",
    "    total = 0\n",
    "    reverse = number[::-1]             \n",
    "\n",
    "    for i in range(len(reverse)):\n",
    "        digit = int(reverse[i])\n",
    "        if i % 2 == 1:                 \n",
    "            digit *= 2\n",
    "            if digit > 9:\n",
    "                digit -= 9\n",
    "        total += digit\n",
    "\n",
    "    if total % 10 == 0:\n",
    "        return \"Valid Card Number\"\n",
    "    else:\n",
    "        return \"Invalid Card Number\"\n",
    "\n",
    "# take input\n",
    "card_number = input(\"Enter card number: \")\n",
    "print(card(card_number))\n"
   ]
  },
  {
   "cell_type": "code",
   "execution_count": 3,
   "id": "c37b1ce8",
   "metadata": {},
   "outputs": [
    {
     "name": "stdout",
     "output_type": "stream",
     "text": [
      "something\n"
     ]
    }
   ],
   "source": [
    "def discard(text):\n",
    "    pun = '''!()-[]{;}:'<>./?@,#$%^/&*_~'''\n",
    "    result = \"\"\n",
    "    for i in text:\n",
    "        if i not in pun:\n",
    "            result += i\n",
    "    return result\n",
    "\n",
    "correct = input(\"Enter something sentence:\")\n",
    "print(discard(correct))"
   ]
  },
  {
   "cell_type": "code",
   "execution_count": 6,
   "id": "7c1a30bc",
   "metadata": {},
   "outputs": [
    {
     "name": "stdout",
     "output_type": "stream",
     "text": [
      "ali hussain\n"
     ]
    }
   ],
   "source": [
    "def aligned(correct):\n",
    "    words = correct.split()\n",
    "    words.sort() \n",
    "    return \" \".join(words)\n",
    "\n",
    "correct = input(\"Enter the sentece you want to aligned\")\n",
    "print(aligned(correct))"
   ]
  }
 ],
 "metadata": {
  "kernelspec": {
   "display_name": "base",
   "language": "python",
   "name": "python3"
  },
  "language_info": {
   "codemirror_mode": {
    "name": "ipython",
    "version": 3
   },
   "file_extension": ".py",
   "mimetype": "text/x-python",
   "name": "python",
   "nbconvert_exporter": "python",
   "pygments_lexer": "ipython3",
   "version": "3.12.7"
  }
 },
 "nbformat": 4,
 "nbformat_minor": 5
}
