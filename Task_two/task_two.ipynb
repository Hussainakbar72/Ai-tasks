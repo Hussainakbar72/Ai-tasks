{
 "cells": [
  {
   "cell_type": "code",
   "execution_count": 2,
   "id": "baa15dd1",
   "metadata": {},
   "outputs": [
    {
     "name": "stdout",
     "output_type": "stream",
     "text": [
      "\n",
      "Number to check: 56\n",
      "Wrong! Correct answer was: Number\n"
     ]
    }
   ],
   "source": [
    "import random\n",
    "\n",
    "def fizzbuzz(num):\n",
    "    if num % 3 == 0 and num % 5 == 0:\n",
    "        return \"FizzBuzz\"\n",
    "    elif num % 3 == 0:\n",
    "        return \"Fizz\"\n",
    "    elif num % 5 == 0:\n",
    "        return \"Buzz\"\n",
    "    else:\n",
    "        return \"Number\"\n",
    "\n",
    "previous_number = None\n",
    "current_number = random.randint(1, 100)\n",
    "\n",
    "while True:\n",
    "    correct_answer = fizzbuzz(current_number)\n",
    "\n",
    "    print(f\"\\nNumber to check: {current_number}\")\n",
    "    user_input = input(\"Enter your answer (Fizz / Buzz / FizzBuzz / Number): \").strip()\n",
    "\n",
    "    if user_input.lower() == correct_answer.lower():\n",
    "        print(\"Correct!\")\n",
    "\n",
    "        if previous_number is not None:\n",
    "            total = previous_number + current_number\n",
    "            print(f\"Sum of {previous_number} + {current_number} = {total}\")\n",
    "            previous_number, current_number = current_number, total\n",
    "        else:\n",
    "            previous_number = current_number\n",
    "            current_number = random.randint(1, 100)\n",
    "\n",
    "    else:\n",
    "        print(f\"Wrong! Correct answer was: {correct_answer}\")\n",
    "        previous_number = None\n",
    "        current_number = random.randint(1, 100)\n",
    "        break"
   ]
  },
  {
   "cell_type": "code",
   "execution_count": null,
   "id": "beb49be1",
   "metadata": {},
   "outputs": [
    {
     "name": "stdout",
     "output_type": "stream",
     "text": [
      "\n",
      "Entering movie 1:\n",
      "\n",
      "Entering movie 2:\n",
      "\n",
      "Entering movie 3:\n",
      "\n",
      "Entering movie 4:\n",
      "\n",
      " Average budget of all movies: 151933343.9090909 \n",
      "\n",
      "Movies with budgets higher than the average:\n",
      "\n",
      "Pirates of the Caribbean: On Stranger Tides: 379000000 (Higher by 227066656.0909091)\n",
      "Avengers: Age of Ultron: 365000000 (Higher by 213066656.0909091)\n",
      "Avengers: Endgame: 356000000 (Higher by 204066656.0909091)\n",
      "Incredibles 2: 200000000 (Higher by 48066656.09090909)\n",
      "\n",
      " Number of movies that spent more than the average: 4\n"
     ]
    }
   ],
   "source": [
    "\n",
    "\n",
    "movies = [\n",
    "    (\"Eternal Sunshine of the Spotless Mind\", 20000000),\n",
    "    (\"Memento\", 9000000),\n",
    "    (\"Requiem for a Dream\", 4500000),\n",
    "    (\"Pirates of the Caribbean: On Stranger Tides\", 379000000),\n",
    "    (\"Avengers: Age of Ultron\", 365000000),\n",
    "    (\"Avengers: Endgame\", 356000000),\n",
    "    (\"Incredibles 2\", 200000000)\n",
    "]\n",
    "\n",
    "\n",
    "\n",
    "add_new_movies = int(input(\"How many movies would you like to add? \"))\n",
    "\n",
    "for i in range(add_new_movies):\n",
    "    print(f\"\\nEntering movie {i+1}:\")\n",
    "    name = input(\"Enter movie name: \")\n",
    "    budget = int(input(\"Enter movie budget: \"))\n",
    "    movies.append((name, budget)) \n",
    " \n",
    "\n",
    "total_budget = sum(budget for _, budget in movies)\n",
    "average_budget = total_budget / len(movies)\n",
    "\n",
    "print(f\"\\n Average budget of all movies: {average_budget} \\n\")    \n",
    "\n",
    "\n",
    "\n",
    "\n",
    "print(\"Movies with budgets higher than the average:\\n\")\n",
    "count = 0\n",
    "for movie_name, budget in movies:\n",
    "    if budget > average_budget:\n",
    "        difference = budget - average_budget\n",
    "        print(f\"{movie_name}: {budget:} (Higher by {difference})\")\n",
    "        count += 1\n",
    "\n",
    "print(f\"\\n Number of movies that spent more than the average: {count}\")\n",
    "    \n",
    "\n"
   ]
  }
 ],
 "metadata": {
  "kernelspec": {
   "display_name": "base",
   "language": "python",
   "name": "python3"
  },
  "language_info": {
   "codemirror_mode": {
    "name": "ipython",
    "version": 3
   },
   "file_extension": ".py",
   "mimetype": "text/x-python",
   "name": "python",
   "nbconvert_exporter": "python",
   "pygments_lexer": "ipython3",
   "version": "3.12.7"
  }
 },
 "nbformat": 4,
 "nbformat_minor": 5
}
