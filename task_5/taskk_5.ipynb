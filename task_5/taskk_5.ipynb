{
 "cells": [
  {
   "cell_type": "markdown",
   "id": "f6c8c6cc",
   "metadata": {},
   "source": [
    "## Name: Hussain Akbar\n",
    "## Roll no 112"
   ]
  },
  {
   "cell_type": "code",
   "execution_count": 1,
   "id": "ac7a4eb9",
   "metadata": {},
   "outputs": [
    {
     "name": "stdout",
     "output_type": "stream",
     "text": [
      "Visited: a\n",
      "Visited: b\n",
      "Visited: d\n",
      "Visited: e\n",
      "Visited: c\n",
      "Visited: f\n",
      "Goal found: f\n"
     ]
    },
    {
     "data": {
      "text/plain": [
       "['a', 'b', 'd', 'e', 'c', 'f']"
      ]
     },
     "execution_count": 1,
     "metadata": {},
     "output_type": "execute_result"
    }
   ],
   "source": [
    "class DFS:\n",
    "    def __init__(self, tree):\n",
    "        self.tree = tree\n",
    "        self.visited = []\n",
    "        self.stack = []\n",
    "\n",
    "    def search(self, start, goal):\n",
    "        self.stack.append(start)\n",
    "\n",
    "        while self.stack:\n",
    "            node = self.stack.pop()   \n",
    "            if node not in self.visited:\n",
    "                self.visited.append(node)\n",
    "                print(\"Visited:\", node)\n",
    "\n",
    "                if node == goal:\n",
    "                    print(\"Goal found:\", goal)\n",
    "                    return self.visited\n",
    "\n",
    "                \n",
    "                for child in reversed(self.tree[node]):\n",
    "                    if child not in self.visited:\n",
    "                        self.stack.append(child)\n",
    "\n",
    "        print(\"Goal not found!\")\n",
    "        return self.visited\n",
    "\n",
    "\n",
    "\n",
    "tree = {\n",
    "    \"a\": [\"b\", \"c\"],\n",
    "    \"b\": [\"d\", \"e\"],\n",
    "    \"c\": [\"f\"],\n",
    "    \"d\": [],\n",
    "    \"e\": [],\n",
    "    \"f\": [\"g\"],\n",
    "    \"g\": []\n",
    "}\n",
    "\n",
    "dfs = DFS(tree)\n",
    "start = \"a\"\n",
    "goal = \"f\"\n",
    "dfs.search(start, goal)\n"
   ]
  },
  {
   "cell_type": "code",
   "execution_count": 2,
   "id": "2f817f95",
   "metadata": {},
   "outputs": [
    {
     "name": "stdout",
     "output_type": "stream",
     "text": [
      "Your goal met = ['a', 'b', 'c', 'd', 'e', 'f', 'g']\n"
     ]
    }
   ],
   "source": [
    "tree = {\n",
    "    \"a\": [\"b\", \"c\"],\n",
    "    \"b\": [\"d\", \"e\"],\n",
    "    \"c\": [\"f\"],\n",
    "    \"d\": [],\n",
    "    \"e\": [],\n",
    "    \"f\": [\"g\"],\n",
    "    \"g\": []\n",
    "}\n",
    "\n",
    "start = \"a\"\n",
    "goal = \"g\"\n",
    "\n",
    "queue = [start]   \n",
    "visited = []\n",
    "\n",
    "while queue:\n",
    "    node = queue.pop(0)   \n",
    "    if node not in visited:\n",
    "        visited.append(node)\n",
    "\n",
    "        if node == goal:\n",
    "            print(\"Your goal met =\", visited)\n",
    "            break\n",
    "\n",
    "        \n",
    "        for child in tree[node]:\n",
    "            if child not in visited:\n",
    "                queue.append(child)\n"
   ]
  }
 ],
 "metadata": {
  "kernelspec": {
   "display_name": "base",
   "language": "python",
   "name": "python3"
  },
  "language_info": {
   "codemirror_mode": {
    "name": "ipython",
    "version": 3
   },
   "file_extension": ".py",
   "mimetype": "text/x-python",
   "name": "python",
   "nbconvert_exporter": "python",
   "pygments_lexer": "ipython3",
   "version": "3.12.7"
  }
 },
 "nbformat": 4,
 "nbformat_minor": 5
}
