{
 "cells": [
  {
   "cell_type": "markdown",
   "id": "1a37e67b",
   "metadata": {},
   "source": [
    "## Name: Hussain Akbar\n",
    "## Roll no: 112"
   ]
  },
  {
   "cell_type": "code",
   "execution_count": null,
   "id": "2c4b3c07",
   "metadata": {},
   "outputs": [
    {
     "name": "stdout",
     "output_type": "stream",
     "text": [
      "🎯 Target reached! Path = ['a', 'b', 'c', 'd', 'e', 'f', 'g']\n"
     ]
    }
   ],
   "source": [
    "graph = {\n",
    "    \"a\": [\"b\", \"c\"],\n",
    "    \"b\": [\"d\", \"e\"],\n",
    "    \"c\": [\"f\"],\n",
    "    \"d\": [],\n",
    "    \"e\": [],\n",
    "    \"f\": [\"g\"],\n",
    "    \"g\": []\n",
    "}\n",
    "\n",
    "queue = [\"a\"]       \n",
    "target = \"g\"\n",
    "path = []           \n",
    "\n",
    "while queue:\n",
    "    node = queue.pop(0) \n",
    "    if node not in path:\n",
    "        path.append(node)\n",
    "        if node == target:\n",
    "            print(\" Target reached! Path =\", path)\n",
    "            break\n",
    "        for neighbor in graph[node]:\n",
    "            queue.append(neighbor)\n"
   ]
  },
  {
   "cell_type": "code",
   "execution_count": 2,
   "id": "53c96ce0",
   "metadata": {},
   "outputs": [
    {
     "name": "stdout",
     "output_type": "stream",
     "text": [
      " Target found! Path = ['a', 'b', 'c', 'd', 'e', 'f', 'g']\n"
     ]
    }
   ],
   "source": [
    "class BreadthFirstSearch:\n",
    "    def __init__(self, graph):\n",
    "        self.graph = graph\n",
    "        self.explored = []     \n",
    "        self.frontier = []     \n",
    "\n",
    "    def traverse(self, source, target):\n",
    "        self.frontier.append(source)\n",
    "\n",
    "        while self.frontier:\n",
    "            current = self.frontier.pop(0)   \n",
    "            if current not in self.explored:\n",
    "                self.explored.append(current)\n",
    "\n",
    "                if current == target:\n",
    "                    print(\" Target found! Path =\", self.explored)\n",
    "                    break\n",
    "\n",
    "                for neighbor in self.graph[current]:\n",
    "                    self.frontier.append(neighbor)\n",
    "\n",
    "\n",
    "\n",
    "graph = {\n",
    "    \"a\": [\"b\", \"c\"],\n",
    "    \"b\": [\"d\", \"e\"],\n",
    "    \"c\": [\"f\"],\n",
    "    \"d\": [],\n",
    "    \"e\": [],\n",
    "    \"f\": [\"g\"],\n",
    "    \"g\": []\n",
    "}\n",
    "\n",
    "start_node = \"a\"\n",
    "target_node = \"g\"\n",
    "\n",
    "bfs = BreadthFirstSearch(graph)\n",
    "bfs.traverse(start_node, target_node)\n"
   ]
  }
 ],
 "metadata": {
  "kernelspec": {
   "display_name": "base",
   "language": "python",
   "name": "python3"
  },
  "language_info": {
   "codemirror_mode": {
    "name": "ipython",
    "version": 3
   },
   "file_extension": ".py",
   "mimetype": "text/x-python",
   "name": "python",
   "nbconvert_exporter": "python",
   "pygments_lexer": "ipython3",
   "version": "3.12.7"
  }
 },
 "nbformat": 4,
 "nbformat_minor": 5
}
