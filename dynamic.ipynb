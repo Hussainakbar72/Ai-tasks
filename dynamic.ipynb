{
 "cells": [
  {
   "cell_type": "code",
   "execution_count": 6,
   "id": "6772e8ad",
   "metadata": {},
   "outputs": [
    {
     "name": "stdout",
     "output_type": "stream",
     "text": [
      "Kindly select Your Operation\n",
      "1 : Addition \n",
      "2 : Substraction\n",
      "3 : Multiplication \n",
      "4 : Division \n",
      "5 : Average \n",
      "6 : Solve Expression\n",
      "\n",
      "( 7 + 8 ) / 2 = 7.5\n"
     ]
    }
   ],
   "source": [
    "def add(num1, num2):\n",
    "    return num1 + num2\n",
    "\n",
    "def sub(num1, num2):\n",
    "    return num1 - num2\n",
    "\n",
    "def mul(num1, num2):\n",
    "    return num1 * num2\n",
    "\n",
    "def divd(num1, num2):\n",
    "    return num1 / num2\n",
    "\n",
    "def avg(num1, num2):\n",
    "    return (num1 + num2) / 2\n",
    "\n",
    "\n",
    "\n",
    "def solve_expression(expr):\n",
    "    try:\n",
    "        return eval(expr)   \n",
    "    except:\n",
    "        return \"Invalid Expression!\"\n",
    "\n",
    "\n",
    "\n",
    "print(\"Kindly select Your Operation\")\n",
    "print(\"1 : Addition \\n\" \\\n",
    "      \"2 : Substraction\\n\" \\\n",
    "      \"3 : Multiplication \\n\" \\\n",
    "      \"4 : Division \\n\" \\\n",
    "      \"5 : Average \\n\" \\\n",
    "      \"6 : Solve Expression\\n\")\n",
    "\n",
    "\n",
    "select = int(input(\"Select a operation from 1,2,3,4,5,6: \"))\n",
    "\n",
    "\n",
    "\n",
    "if select in [1, 2, 3, 4, 5]:\n",
    "    number1 = int(input(\"Enter first number: \"))  \n",
    "    number2 = int(input(\"Enter second number: \"))\n",
    "\n",
    "    if select == 1:\n",
    "        print(number1, \"+\", number2, \"=\", add(number1, number2))\n",
    "\n",
    "    elif select == 2:\n",
    "        print(number1, \"-\", number2, \"=\", sub(number1, number2))\n",
    "\n",
    "    elif select == 3:\n",
    "        print(number1, \"*\", number2, \"=\", mul(number1, number2))\n",
    "\n",
    "    elif select == 4:\n",
    "        print(number1, \"/\", number2, \"=\", divd(number1, number2))\n",
    "\n",
    "    elif select == 5:\n",
    "        print(\"(\", number1, \"+\", number2, \")\", \"/\", \"2\", \"=\", avg(number1, number2))\n",
    "\n",
    "\n",
    "elif select == 6:\n",
    "    expr = input(\"Enter your full expression : \")\n",
    "    print(\"Result =\", solve_expression(expr))\n",
    "\n",
    "\n",
    "else:\n",
    "    print(\"Invalid Operation! plz try again\")"
   ]
  }
 ],
 "metadata": {
  "kernelspec": {
   "display_name": "base",
   "language": "python",
   "name": "python3"
  },
  "language_info": {
   "codemirror_mode": {
    "name": "ipython",
    "version": 3
   },
   "file_extension": ".py",
   "mimetype": "text/x-python",
   "name": "python",
   "nbconvert_exporter": "python",
   "pygments_lexer": "ipython3",
   "version": "3.12.7"
  }
 },
 "nbformat": 4,
 "nbformat_minor": 5
}
