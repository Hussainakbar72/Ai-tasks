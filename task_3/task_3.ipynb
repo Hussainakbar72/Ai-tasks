{
 "cells": [
  {
   "cell_type": "markdown",
   "id": "6db619bd",
   "metadata": {},
   "source": [
    "## Name: *Hussain akbar*\n",
    "\n",
    "## Roll no: 112\n"
   ]
  },
  {
   "cell_type": "code",
   "execution_count": null,
   "id": "b0a88525",
   "metadata": {},
   "outputs": [
    {
     "name": "stdout",
     "output_type": "stream",
     "text": [
      "Living Room  | 21°C  =>  Heater ON\n",
      "Dining Room  | 23°C  =>  Heater OFF\n",
      "Study Room   | 20°C  =>  Heater ON\n",
      "Garage       | 18°C  =>  Heater ON\n",
      "Store Room   | 24°C  =>  Heater OFF\n"
     ]
    }
   ],
   "source": [
    "class roomheatercontroller:\n",
    "    def __init__(self, set_point):\n",
    "        self.set_point = set_point\n",
    "        self.previous_state = None\n",
    "\n",
    "    def get_temperature(self, current_value):\n",
    "        self.current_value = current_value\n",
    "\n",
    "    def choose_action(self):\n",
    "        if self.current_value < self.set_point:\n",
    "            state = \"Heater ON\"\n",
    "        else:\n",
    "            state = \"Heater OFF\"\n",
    "\n",
    "        if state == self.previous_state:\n",
    "            return \"No Change (Keep same state)\"\n",
    "        else:\n",
    "            self.previous_state = state\n",
    "            return state\n",
    "\n",
    "    def activate(self, room_label):\n",
    "        decision = self.choose_action()\n",
    "        print(f\"{room_label:12} | {self.current_value}°C  =>  {decision}\")\n",
    "\n",
    "\n",
    "\n",
    "house_zones = {\n",
    "    \"Living Room\": 21,\n",
    "    \"Dining Room\": 23,\n",
    "    \"Study Room\": 20,\n",
    "    \"Garage\": 18,\n",
    "    \"Store Room\": 24,}\n",
    "\n",
    "for zone, reading in house_zones.items():\n",
    "    device = RoomHeaterController(22)   \n",
    "    device.get_temperature(reading)\n",
    "    device.activate(zone)\n"
   ]
  }
 ],
 "metadata": {
  "kernelspec": {
   "display_name": "base",
   "language": "python",
   "name": "python3"
  },
  "language_info": {
   "codemirror_mode": {
    "name": "ipython",
    "version": 3
   },
   "file_extension": ".py",
   "mimetype": "text/x-python",
   "name": "python",
   "nbconvert_exporter": "python",
   "pygments_lexer": "ipython3",
   "version": "3.12.7"
  }
 },
 "nbformat": 4,
 "nbformat_minor": 5
}
